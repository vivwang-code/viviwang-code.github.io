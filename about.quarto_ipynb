{
  "cells": [
    {
      "cell_type": "markdown",
      "metadata": {},
      "source": [
        "---\n",
        "title: \"About Me\"\n",
        "author: \"Wei Wang\"\n",
        "date: \"2025-09-07\"\n",
        "format:\n",
        "  html:\n",
        "    theme: journal\n",
        "    toc: true\n",
        "---\n",
        "\n",
        "# About Me\n",
        "This page demonstrates another embedded Python code cell that computes a quick summary.\n",
        "\n",
        "## Simple statistics (Python)"
      ],
      "id": "4758c9a1"
    },
    {
      "cell_type": "code",
      "metadata": {},
      "source": [
        "import pandas as pd\n",
        "\n",
        "sales = pd.Series([12.5, 15.2, 14.0, 18.3, 19.1, 21.4, 17.8])\n",
        "summary = {\n",
        "    \"count\": sales.count(),\n",
        "    \"mean\": round(sales.mean(), 2),\n",
        "    \"std\": round(sales.std(), 2),\n",
        "    \"min\": float(sales.min()),\n",
        "    \"max\": float(sales.max())\n",
        "}\n",
        "summary"
      ],
      "id": "34845130",
      "execution_count": null,
      "outputs": []
    }
  ],
  "metadata": {
    "kernelspec": {
      "name": "python3",
      "language": "python",
      "display_name": "Python 3 (ipykernel)",
      "path": "/Library/Frameworks/Python.framework/Versions/3.13/share/jupyter/kernels/python3"
    }
  },
  "nbformat": 4,
  "nbformat_minor": 5
}