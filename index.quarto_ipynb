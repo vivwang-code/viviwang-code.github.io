{
  "cells": [
    {
      "cell_type": "markdown",
      "metadata": {},
      "source": [
        "---\n",
        "title: \"Welcome to My Website\"\n",
        "author: \"Wei Wang\"\n",
        "date: \"2025-09-07\"\n",
        "format:\n",
        "  html:\n",
        "    theme: journal\n",
        "    toc: true\n",
        "---\n",
        "\n",
        "# Hello, World!\n",
        "Welcome to my Quarto website.\n",
        "\n",
        "## About Me\n",
        "- I love learning GitHub\n",
        "\n",
        "## Useful Links\n",
        "- [My GitHub Profile](https://github.com/vivwang-code)\n",
        "\n",
        "## A Tiny Dataset (Python)\n",
        "Below I build a small DataFrame and print the **head( )**."
      ],
      "id": "d20fe274"
    },
    {
      "cell_type": "code",
      "metadata": {},
      "source": [
        "import pandas as pd\n",
        "\n",
        "data = {\n",
        "    \"month\": [\"Jan\",\"Feb\",\"Mar\",\"Apr\",\"May\",\"Jun\"],\n",
        "    \"visitors\": [120, 150, 180, 160, 210, 240]\n",
        "}\n",
        "df = pd.DataFrame(data)\n",
        "df.head()"
      ],
      "id": "af98a3c2",
      "execution_count": null,
      "outputs": []
    }
  ],
  "metadata": {
    "kernelspec": {
      "name": "python3",
      "language": "python",
      "display_name": "Python 3 (ipykernel)",
      "path": "/Library/Frameworks/Python.framework/Versions/3.13/share/jupyter/kernels/python3"
    }
  },
  "nbformat": 4,
  "nbformat_minor": 5
}